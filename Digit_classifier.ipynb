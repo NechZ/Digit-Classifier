{
 "cells": [
  {
   "cell_type": "code",
   "execution_count": null,
   "id": "initial_id",
   "metadata": {
    "ExecuteTime": {
     "end_time": "2024-03-21T11:41:19.327866300Z",
     "start_time": "2024-03-21T11:41:19.068501Z"
    }
   },
   "outputs": [],
   "source": [
    "import torch\n",
    "import torch.nn as nn\n",
    "import DataLoader\n",
    "import time\n",
    "import numpy as np\n",
    "import matplotlib.pyplot as plt\n",
    "from Classifier import DigitClassifier\n",
    "\n",
    "loader = DataLoader"
   ]
  },
  {
   "cell_type": "code",
   "execution_count": null,
   "id": "0b8f6e55-2c36-42b9-b4bf-29318989c28c",
   "metadata": {
    "ExecuteTime": {
     "end_time": "2024-03-21T11:36:11.641680800Z",
     "start_time": "2024-03-21T11:35:36.101691700Z"
    }
   },
   "outputs": [],
   "source": [
    "model = DigitClassifier()\n",
    "loss_function = nn.CrossEntropyLoss()\n",
    "optimizer = torch.optim.Adam(model.parameters())\n",
    "\n",
    "epochs = 5\n",
    "for epoch in range(epochs):\n",
    "    running_loss = 0.0\n",
    "    start = time.time()\n",
    "    for image, labels in loader.train_dataloader:\n",
    "        images = torch.reshape(image, (-1, 784))\n",
    "        optimizer.zero_grad()\n",
    "        output = model(images)\n",
    "        loss = loss_function(output, labels)\n",
    "        loss.backward()\n",
    "        optimizer.step()\n",
    "        running_loss += loss\n",
    "    end = time.time()\n",
    "    print(f\"Epoch {epoch+1} - Training Loss: {running_loss/len(loader.train_dataloader)} {end-start}\")     \n",
    "    \n",
    "torch.save(model.state_dict(), \"Digit_classifier.pth\")"
   ]
  },
  {
   "cell_type": "code",
   "execution_count": null,
   "id": "96738b90ca2618c",
   "metadata": {
    "ExecuteTime": {
     "end_time": "2024-03-21T11:36:33.232277900Z",
     "start_time": "2024-03-21T11:36:32.571644100Z"
    },
    "collapsed": false
   },
   "outputs": [],
   "source": [
    "model.eval()\n",
    "correct_predictions = 0\n",
    "total_predictions = 0\n",
    "with torch.no_grad():\n",
    "    for image, labels in loader.test_dataloader:\n",
    "        images = torch.reshape(image, (-1, 784))\n",
    "        output = model(images)\n",
    "        _, predicted = torch.max(output.data, 1)\n",
    "        total_predictions += labels.size(0)\n",
    "        correct_predictions += (predicted == labels).sum().item()\n",
    "        \n",
    "accuracy = (correct_predictions / total_predictions) * 100\n",
    "print(f\"Accuracy on the test set: {accuracy}%\")"
   ]
  },
  {
   "cell_type": "code",
   "execution_count": null,
   "id": "aee2291b53f27f45",
   "metadata": {
    "ExecuteTime": {
     "end_time": "2024-03-21T11:43:32.836973700Z",
     "start_time": "2024-03-21T11:43:32.769648900Z"
    },
    "collapsed": false
   },
   "outputs": [],
   "source": [
    "data_iter = iter(loader.test_dataloader)\n",
    "image, label = next(data_iter)\n",
    "image = np.reshape(image[0], (28, 28))\n",
    "plt.imshow(image, cmap=\"gray\")\n",
    "plt.title(f\"label: {label[0]}\")\n",
    "plt.show()"
   ]
  }
 ],
 "metadata": {
  "kernelspec": {
   "display_name": "Python 3 (ipykernel)",
   "language": "python",
   "name": "python3"
  },
  "language_info": {
   "codemirror_mode": {
    "name": "ipython",
    "version": 3
   },
   "file_extension": ".py",
   "mimetype": "text/x-python",
   "name": "python",
   "nbconvert_exporter": "python",
   "pygments_lexer": "ipython3",
   "version": "3.10.12"
  }
 },
 "nbformat": 4,
 "nbformat_minor": 5
}
